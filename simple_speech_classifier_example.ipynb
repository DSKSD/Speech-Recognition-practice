{
 "cells": [
  {
   "cell_type": "code",
   "execution_count": 2,
   "metadata": {
    "collapsed": true
   },
   "outputs": [],
   "source": [
    "# import torch\n",
    "# from torch.autograd import Variable\n",
    "# from warpctc_pytorch import CTCLoss\n",
    "# ctc_loss = CTCLoss()"
   ]
  },
  {
   "cell_type": "code",
   "execution_count": 99,
   "metadata": {
    "collapsed": true
   },
   "outputs": [],
   "source": [
    "import librosa\n",
    "import torch\n",
    "import torch.nn as nn\n",
    "from torch.autograd import Variable\n",
    "import torch.optim as optim\n",
    "import torch.nn.functional as F\n",
    "import os\n",
    "import random\n",
    "import numpy as np"
   ]
  },
  {
   "cell_type": "code",
   "execution_count": 101,
   "metadata": {
    "collapsed": true
   },
   "outputs": [],
   "source": [
    "USE_CUDA = torch.cuda.is_available()\n",
    "\n",
    "FloatTensor = torch.cuda.FloatTensor if USE_CUDA else torch.FloatTensor\n",
    "LongTensor = torch.cuda.LongTensor if USE_CUDA else torch.LongTensor\n",
    "ByteTensor = torch.cuda.ByteTensor if USE_CUDA else torch.ByteTensor\n",
    "zeros = to"
   ]
  },
  {
   "cell_type": "code",
   "execution_count": 102,
   "metadata": {
    "collapsed": true
   },
   "outputs": [],
   "source": [
    "def getBatch(batch_size,train_data):\n",
    "    random.shuffle(train_data)\n",
    "    sindex=0\n",
    "    eindex=batch_size\n",
    "    while eindex < len(train_data):\n",
    "        batch = train_data[sindex:eindex]\n",
    "        temp = eindex\n",
    "        eindex = eindex+batch_size\n",
    "        sindex = temp\n",
    "        yield batch\n",
    "    \n",
    "    if eindex >= len(train_data):\n",
    "        batch = train_data[sindex:]\n",
    "        yield batch"
   ]
  },
  {
   "cell_type": "code",
   "execution_count": 215,
   "metadata": {
    "collapsed": true
   },
   "outputs": [],
   "source": [
    "def pad_to_batch(batch):\n",
    "    x,y = zip(*batch)\n",
    "    max_x = max([s.size(0) for s in x])\n",
    "    x_p=[]\n",
    "    for i in range(len(batch)):\n",
    "        if x[i].size(0)<max_x:\n",
    "            pad = torch.cat([x[i],Variable(torch.zeros(max_x-x[i].size(0),20))]).unsqueeze(0)\n",
    "            if USE_CUDA:\n",
    "                pad=pad.cuda()\n",
    "            x_p.append(pad)\n",
    "        else:\n",
    "            x_p.append(x[i].unsqueeze(0))\n",
    "    return torch.cat(x_p),torch.cat(y)"
   ]
  },
  {
   "cell_type": "code",
   "execution_count": 72,
   "metadata": {
    "collapsed": true
   },
   "outputs": [],
   "source": [
    "BASE_URL = '../../다운로드/google_command_wav/'"
   ]
  },
  {
   "cell_type": "code",
   "execution_count": 90,
   "metadata": {
    "collapsed": true
   },
   "outputs": [],
   "source": [
    "data=[]"
   ]
  },
  {
   "cell_type": "code",
   "execution_count": 91,
   "metadata": {},
   "outputs": [],
   "source": [
    "for yes in os.listdir(BASE_URL+'yes/'):\n",
    "    if yes.endswith('.wav'):\n",
    "        y, sr = librosa.load(BASE_URL+'yes/'+yes,sr=16000)\n",
    "        feature = librosa.feature.mfcc(y,sr)\n",
    "        data.append([feature,1])\n",
    "        \n",
    "for no in os.listdir(BASE_URL+'no/'):\n",
    "    if no.endswith('.wav'):\n",
    "        y, sr = librosa.load(BASE_URL+'no/'+no,sr=16000)\n",
    "        feature = librosa.feature.mfcc(y,sr)\n",
    "        data.append([feature,0])"
   ]
  },
  {
   "cell_type": "code",
   "execution_count": 208,
   "metadata": {},
   "outputs": [],
   "source": [
    "random.shuffle(data)\n",
    "train = data[:int(len(data)*0.7)]\n",
    "test = data[int(len(data)*0.7):]"
   ]
  },
  {
   "cell_type": "code",
   "execution_count": 209,
   "metadata": {
    "collapsed": true
   },
   "outputs": [],
   "source": [
    "train_X,train_y = list(zip(*train))\n",
    "test_X,test_y = list(zip(*test))"
   ]
  },
  {
   "cell_type": "code",
   "execution_count": 210,
   "metadata": {},
   "outputs": [],
   "source": [
    "train_X = [Variable(FloatTensor(x.T)) for x in train_X]\n",
    "train_y = [Variable(LongTensor([y])).unsqueeze(0) for y in train_y]\n",
    "train_data = list(zip(train_X,train_y))"
   ]
  },
  {
   "cell_type": "code",
   "execution_count": 211,
   "metadata": {},
   "outputs": [],
   "source": [
    "test_X = [Variable(FloatTensor(x.T)) for x in test_X]\n",
    "test_data = list(zip(test_X,test_y))"
   ]
  },
  {
   "cell_type": "code",
   "execution_count": 191,
   "metadata": {
    "collapsed": true
   },
   "outputs": [],
   "source": [
    "class YesNoClassifier(nn.Module): \n",
    "    def __init__(self,vector_size,hidden_size):\n",
    "\n",
    "        super(YesNoClassifier, self).__init__()\n",
    "        self.vector_size = vector_size\n",
    "        self.hidden_size = hidden_size\n",
    "        self.rnn = nn.GRU(vector_size,hidden_size,1,batch_first=True)\n",
    "        self.linear = nn.Linear(hidden_size,2)\n",
    "        \n",
    "        self.init_rnn() # IRNN\n",
    "            \n",
    "    def init_rnn(self):\n",
    "        self.rnn.weight_hh_l0 = nn.init.eye(self.rnn.weight_hh_l0)\n",
    "        self.rnn.weight_ih_l0 = nn.init.eye(self.rnn.weight_ih_l0)\n",
    "        self.rnn.bias_hh_l0.data.fill_(0)\n",
    "        self.rnn.bias_ih_l0.data.fill_(0)\n",
    "        \n",
    "    def init_hidden(self,inputs):\n",
    "        hidden = Variable(torch.zeros(1,inputs.size(0),self.hidden_size))\n",
    "        return hidden.cuda() if USE_CUDA else hidden\n",
    "        \n",
    "    def forward(self, inputs): \n",
    "        hidden = self.init_hidden(inputs)\n",
    "        out,hidden = self.rnn(inputs,hidden)\n",
    "        return F.log_softmax(self.linear(hidden.squeeze(0)))\n",
    "#         return F.log_softmax(self.linear(out.contiguous().view(out.size(0)*out.size(1),-1)))"
   ]
  },
  {
   "cell_type": "code",
   "execution_count": 194,
   "metadata": {},
   "outputs": [],
   "source": [
    "model = YesNoClassifier(20,50)\n",
    "if USE_CUDA:\n",
    "    model = model.cuda()\n",
    "loss_function = nn.CrossEntropyLoss()\n",
    "optimizer = optim.Adam(model.parameters(),lr=0.01)"
   ]
  },
  {
   "cell_type": "code",
   "execution_count": 195,
   "metadata": {},
   "outputs": [
    {
     "name": "stdout",
     "output_type": "stream",
     "text": [
      "[0/5] mean_loss : 0.68\n",
      "[0/5] mean_loss : 0.68\n",
      "[0/5] mean_loss : 0.28\n",
      "[0/5] mean_loss : 0.24\n",
      "[0/5] mean_loss : 0.23\n",
      "[0/5] mean_loss : 0.25\n",
      "[0/5] mean_loss : 0.18\n",
      "[1/5] mean_loss : 0.07\n",
      "[1/5] mean_loss : 0.14\n",
      "[1/5] mean_loss : 0.20\n",
      "[1/5] mean_loss : 0.15\n",
      "[1/5] mean_loss : 0.16\n",
      "[1/5] mean_loss : 0.19\n",
      "[1/5] mean_loss : 0.20\n"
     ]
    }
   ],
   "source": [
    "for step in range(2):\n",
    "    losses=[]\n",
    "    for i,batch in enumerate(getBatch(5,train_data)):\n",
    "        inputs,targets = pad_to_batch(batch)\n",
    "        model.zero_grad()\n",
    "        preds = model(inputs)\n",
    "\n",
    "        loss = loss_function(preds,targets.view(-1))\n",
    "        losses.append(loss.data.cpu().numpy()[0] if USE_CUDA else loss.data.numpy()[0] )\n",
    "        loss.backward()\n",
    "        torch.nn.utils.clip_grad_norm(model.parameters(), 0.5) # gradient clipping\n",
    "        optimizer.step()\n",
    "        \n",
    "        \n",
    "        if i % 100==0:\n",
    "            print(\"[%d/%d] mean_loss : %0.2f\" %(step,5,np.mean(losses)))\n",
    "            losses=[]"
   ]
  },
  {
   "cell_type": "code",
   "execution_count": 216,
   "metadata": {
    "collapsed": true
   },
   "outputs": [],
   "source": [
    "accuracy=0"
   ]
  },
  {
   "cell_type": "code",
   "execution_count": 217,
   "metadata": {},
   "outputs": [
    {
     "name": "stdout",
     "output_type": "stream",
     "text": [
      "95.37166900420758\n"
     ]
    }
   ],
   "source": [
    "for test in test_data:\n",
    "    pred = model(test[0].unsqueeze(0)).max(1)[1]\n",
    "    pred = pred.data.cpu().tolist()[0] if USE_CUDA else pred.data.tolist()[0]\n",
    "    if pred == test[1]:\n",
    "        accuracy+=1\n",
    "\n",
    "print(accuracy/len(test_data)*100)"
   ]
  },
  {
   "cell_type": "code",
   "execution_count": null,
   "metadata": {
    "collapsed": true
   },
   "outputs": [],
   "source": []
  }
 ],
 "metadata": {
  "kernelspec": {
   "display_name": "Python 3",
   "language": "python",
   "name": "python3"
  },
  "language_info": {
   "codemirror_mode": {
    "name": "ipython",
    "version": 3
   },
   "file_extension": ".py",
   "mimetype": "text/x-python",
   "name": "python",
   "nbconvert_exporter": "python",
   "pygments_lexer": "ipython3",
   "version": "3.5.2"
  }
 },
 "nbformat": 4,
 "nbformat_minor": 2
}
